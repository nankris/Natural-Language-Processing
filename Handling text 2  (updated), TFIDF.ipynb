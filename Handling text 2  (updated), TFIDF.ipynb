{
 "cells": [
  {
   "cell_type": "code",
   "execution_count": 1,
   "metadata": {},
   "outputs": [],
   "source": [
    "import numpy as np\n",
    "from sklearn.feature_extraction.text import CountVectorizer"
   ]
  },
  {
   "cell_type": "code",
   "execution_count": 2,
   "metadata": {},
   "outputs": [],
   "source": [
    "text_data = np.array(['I love Brazil. Brazil!',\n",
    "'Sweden is best',\n",
    "'Germany beats both'])"
   ]
  },
  {
   "cell_type": "code",
   "execution_count": 3,
   "metadata": {},
   "outputs": [
    {
     "data": {
      "text/plain": [
       "<3x8 sparse matrix of type '<class 'numpy.int64'>'\n",
       "\twith 8 stored elements in Compressed Sparse Row format>"
      ]
     },
     "execution_count": 3,
     "metadata": {},
     "output_type": "execute_result"
    }
   ],
   "source": [
    "# Create the bag of words feature matrix\n",
    "count = CountVectorizer()\n",
    "bag_of_words = count.fit_transform(text_data)\n",
    "# Show feature matrix\n",
    "bag_of_words"
   ]
  },
  {
   "cell_type": "code",
   "execution_count": 4,
   "metadata": {},
   "outputs": [
    {
     "data": {
      "text/plain": [
       "array([[0, 0, 0, 2, 0, 0, 1, 0],\n",
       "       [0, 1, 0, 0, 0, 1, 0, 1],\n",
       "       [1, 0, 1, 0, 1, 0, 0, 0]], dtype=int64)"
      ]
     },
     "execution_count": 4,
     "metadata": {},
     "output_type": "execute_result"
    }
   ],
   "source": [
    "bag_of_words.toarray()"
   ]
  },
  {
   "cell_type": "code",
   "execution_count": 5,
   "metadata": {},
   "outputs": [
    {
     "data": {
      "text/plain": [
       "['beats', 'best', 'both', 'brazil', 'germany', 'is', 'love', 'sweden']"
      ]
     },
     "execution_count": 5,
     "metadata": {},
     "output_type": "execute_result"
    }
   ],
   "source": [
    "count.get_feature_names()"
   ]
  },
  {
   "cell_type": "code",
   "execution_count": 6,
   "metadata": {},
   "outputs": [
    {
     "data": {
      "text/plain": [
       "array([[2],\n",
       "       [0],\n",
       "       [0]], dtype=int64)"
      ]
     },
     "execution_count": 6,
     "metadata": {},
     "output_type": "execute_result"
    }
   ],
   "source": [
    "countbigram=CountVectorizer(ngram_range=(1,2),stop_words=\"english\",vocabulary=['brazil'])\n",
    "bg=countbigram.fit_transform(text_data)\n",
    "bg.toarray()"
   ]
  },
  {
   "cell_type": "code",
   "execution_count": 8,
   "metadata": {},
   "outputs": [
    {
     "data": {
      "text/plain": [
       "{'brazil': 0}"
      ]
     },
     "execution_count": 8,
     "metadata": {},
     "output_type": "execute_result"
    }
   ],
   "source": [
    "countbigram.vocabulary_"
   ]
  },
  {
   "cell_type": "code",
   "execution_count": null,
   "metadata": {},
   "outputs": [],
   "source": [
    "#You want a bag of words, but with words weighted by their importance to an observation."
   ]
  },
  {
   "cell_type": "code",
   "execution_count": 9,
   "metadata": {},
   "outputs": [],
   "source": [
    "doc=[\"One Cent, Two Cents, Old Cent, New Cent: All About Money\"]"
   ]
  },
  {
   "cell_type": "code",
   "execution_count": 13,
   "metadata": {},
   "outputs": [],
   "source": [
    "from sklearn.feature_extraction.text import CountVectorizer\n",
    " \n",
    "lst=[\n",
    "       \"One Cent, Two Cents, Old Cent, New Cent: All About Money (Cat in the Hat's Learning Library\",\n",
    "       \"Inside Your Outside: All About the Human Body (Cat in the Hat's Learning Library)\",\n",
    "       \"Oh, The Things You Can Do That Are Good for You: All About Staying Healthy (Cat in the Hat's Learning Library)\",\n",
    "       \"On Beyond Bugs: All About Insects (Cat in the Hat's Learning Library)\",\n",
    "       \"There's No Place Like Space: All About Our Solar System (Cat in the Hat's Learning Library)\" \n",
    "      ]"
   ]
  },
  {
   "cell_type": "code",
   "execution_count": 14,
   "metadata": {},
   "outputs": [],
   "source": [
    "cv=CountVectorizer(lst)\n",
    "countvector=cv.fit_transform(lst)"
   ]
  },
  {
   "cell_type": "code",
   "execution_count": 15,
   "metadata": {},
   "outputs": [
    {
     "data": {
      "text/plain": [
       "{'about': 0,\n",
       " 'all': 1,\n",
       " 'are': 2,\n",
       " 'beyond': 3,\n",
       " 'body': 4,\n",
       " 'bugs': 5,\n",
       " 'can': 6,\n",
       " 'cat': 7,\n",
       " 'cent': 8,\n",
       " 'cents': 9,\n",
       " 'do': 10,\n",
       " 'for': 11,\n",
       " 'good': 12,\n",
       " 'hat': 13,\n",
       " 'healthy': 14,\n",
       " 'human': 15,\n",
       " 'in': 16,\n",
       " 'insects': 17,\n",
       " 'inside': 18,\n",
       " 'learning': 19,\n",
       " 'library': 20,\n",
       " 'like': 21,\n",
       " 'money': 22,\n",
       " 'new': 23,\n",
       " 'no': 24,\n",
       " 'oh': 25,\n",
       " 'old': 26,\n",
       " 'on': 27,\n",
       " 'one': 28,\n",
       " 'our': 29,\n",
       " 'outside': 30,\n",
       " 'place': 31,\n",
       " 'solar': 32,\n",
       " 'space': 33,\n",
       " 'staying': 34,\n",
       " 'system': 35,\n",
       " 'that': 36,\n",
       " 'the': 37,\n",
       " 'there': 38,\n",
       " 'things': 39,\n",
       " 'two': 40,\n",
       " 'you': 41,\n",
       " 'your': 42}"
      ]
     },
     "execution_count": 15,
     "metadata": {},
     "output_type": "execute_result"
    }
   ],
   "source": [
    "cv.vocabulary_"
   ]
  },
  {
   "cell_type": "code",
   "execution_count": 16,
   "metadata": {},
   "outputs": [
    {
     "data": {
      "text/plain": [
       "(5, 43)"
      ]
     },
     "execution_count": 16,
     "metadata": {},
     "output_type": "execute_result"
    }
   ],
   "source": [
    "countvector.shape"
   ]
  },
  {
   "cell_type": "code",
   "execution_count": 17,
   "metadata": {},
   "outputs": [
    {
     "data": {
      "text/plain": [
       "(5, 40)"
      ]
     },
     "execution_count": 17,
     "metadata": {},
     "output_type": "execute_result"
    }
   ],
   "source": [
    "cv = CountVectorizer(lst,stop_words=[\"all\",\"in\",\"the\",\"is\",\"and\"])\n",
    "count_vector=cv.fit_transform(cat_in_the_hat_docs)\n",
    "count_vector.shape"
   ]
  },
  {
   "cell_type": "code",
   "execution_count": 18,
   "metadata": {},
   "outputs": [
    {
     "data": {
      "text/plain": [
       "<5x8 sparse matrix of type '<class 'numpy.int64'>'\n",
       "\twith 40 stored elements in Compressed Sparse Row format>"
      ]
     },
     "execution_count": 18,
     "metadata": {},
     "output_type": "execute_result"
    }
   ],
   "source": [
    "#Mni df\n",
    "cv = CountVectorizer(lst,min_df=2)\n",
    "countvector=cv.fit_transform(cat_in_the_hat_docs)\n",
    "countvector"
   ]
  },
  {
   "cell_type": "code",
   "execution_count": 19,
   "metadata": {},
   "outputs": [
    {
     "data": {
      "text/plain": [
       "{'are',\n",
       " 'beyond',\n",
       " 'body',\n",
       " 'bugs',\n",
       " 'can',\n",
       " 'cent',\n",
       " 'cents',\n",
       " 'do',\n",
       " 'for',\n",
       " 'good',\n",
       " 'healthy',\n",
       " 'human',\n",
       " 'insects',\n",
       " 'inside',\n",
       " 'like',\n",
       " 'money',\n",
       " 'new',\n",
       " 'no',\n",
       " 'oh',\n",
       " 'old',\n",
       " 'on',\n",
       " 'one',\n",
       " 'our',\n",
       " 'outside',\n",
       " 'place',\n",
       " 'solar',\n",
       " 'space',\n",
       " 'staying',\n",
       " 'system',\n",
       " 'that',\n",
       " 'there',\n",
       " 'things',\n",
       " 'two',\n",
       " 'you',\n",
       " 'your'}"
      ]
     },
     "execution_count": 19,
     "metadata": {},
     "output_type": "execute_result"
    }
   ],
   "source": [
    "cv.stop_words_"
   ]
  },
  {
   "cell_type": "code",
   "execution_count": 20,
   "metadata": {},
   "outputs": [
    {
     "data": {
      "text/plain": [
       "{'about': 0,\n",
       " 'all': 1,\n",
       " 'cat': 2,\n",
       " 'hat': 3,\n",
       " 'in': 4,\n",
       " 'learning': 5,\n",
       " 'library': 6,\n",
       " 'the': 7}"
      ]
     },
     "execution_count": 20,
     "metadata": {},
     "output_type": "execute_result"
    }
   ],
   "source": [
    "cv.vocabulary_ #stop words that appeared in all the titles"
   ]
  },
  {
   "cell_type": "code",
   "execution_count": 21,
   "metadata": {},
   "outputs": [
    {
     "data": {
      "text/plain": [
       "{'about', 'all', 'cat', 'hat', 'in', 'learning', 'library', 'the'}"
      ]
     },
     "execution_count": 21,
     "metadata": {},
     "output_type": "execute_result"
    }
   ],
   "source": [
    "#Max df\n",
    "#The MAX_DF value can be an absolute value (e.g. 1, 2, 3, 4) or a value representing proportion of documents (e.g. 0.85 meaning, ignore words appeared in 85% of the documents as they are too common).\n",
    "cv = CountVectorizer(lst,max_df=0.50)\n",
    "count_vector=cv.fit_transform(lst)\n",
    "cv.stop_words_"
   ]
  },
  {
   "cell_type": "code",
   "execution_count": 23,
   "metadata": {},
   "outputs": [],
   "source": [
    "import numpy as np\n",
    "from sklearn.feature_extraction.text import TfidfVectorizer"
   ]
  },
  {
   "cell_type": "code",
   "execution_count": 24,
   "metadata": {},
   "outputs": [],
   "source": [
    "text_data = np.array(['I love Brazil. Brazil!',\n",
    "'Sweden is best',\n",
    "'Germany beats both'])"
   ]
  },
  {
   "cell_type": "code",
   "execution_count": 25,
   "metadata": {},
   "outputs": [],
   "source": [
    "tfidf = TfidfVectorizer()\n",
    "feature_matrix = tfidf.fit_transform(text_data)"
   ]
  },
  {
   "cell_type": "code",
   "execution_count": 26,
   "metadata": {},
   "outputs": [
    {
     "data": {
      "text/plain": [
       "<3x8 sparse matrix of type '<class 'numpy.float64'>'\n",
       "\twith 8 stored elements in Compressed Sparse Row format>"
      ]
     },
     "execution_count": 26,
     "metadata": {},
     "output_type": "execute_result"
    }
   ],
   "source": [
    "feature_matrix"
   ]
  },
  {
   "cell_type": "code",
   "execution_count": 27,
   "metadata": {},
   "outputs": [
    {
     "data": {
      "text/plain": [
       "array([[0.        , 0.        , 0.        , 0.89442719, 0.        ,\n",
       "        0.        , 0.4472136 , 0.        ],\n",
       "       [0.        , 0.57735027, 0.        , 0.        , 0.        ,\n",
       "        0.57735027, 0.        , 0.57735027],\n",
       "       [0.57735027, 0.        , 0.57735027, 0.        , 0.57735027,\n",
       "        0.        , 0.        , 0.        ]])"
      ]
     },
     "execution_count": 27,
     "metadata": {},
     "output_type": "execute_result"
    }
   ],
   "source": [
    "feature_matrix.toarray()"
   ]
  },
  {
   "cell_type": "code",
   "execution_count": 28,
   "metadata": {},
   "outputs": [
    {
     "data": {
      "text/plain": [
       "{'beats': 0,\n",
       " 'best': 1,\n",
       " 'both': 2,\n",
       " 'brazil': 3,\n",
       " 'germany': 4,\n",
       " 'is': 5,\n",
       " 'love': 6,\n",
       " 'sweden': 7}"
      ]
     },
     "execution_count": 28,
     "metadata": {},
     "output_type": "execute_result"
    }
   ],
   "source": [
    "tfidf.vocabulary_"
   ]
  },
  {
   "cell_type": "code",
   "execution_count": 29,
   "metadata": {},
   "outputs": [],
   "source": [
    "A=\"A system includes a processor configured to discover charging station locations within a predefined proximity to a route for which vehicle-charging is required to complete. The processor is also configured to determine a charging cost at each discovered station, including at least battery-damage resulting from a charge. The processor is further configured to present a plurality of charging stations, including the charging costs and an estimated total route time for each station. Also, the processor is configured to receive a station selection and present a route including a stop at the selected station.\"\n",
    "B=\"Methods and systems for autonomous vehicle recharging or refueling are disclosed. Autonomous electric vehicles may be automatically recharged by routing the vehicles to available charging stations when not in operation, according to methods described herein. A charge level of the battery of an autonomous electric vehicle may be monitored until it reaches a recharging threshold, at which point an on-board computer may generate a predicted use profile for the vehicle. Based upon the predicted use profile, a time and location for the vehicle to recharge may be determined. In some embodiments, the vehicle may be controlled to automatically travel to a charging station, recharge the battery, and return to its starting location in order to recharge when not in use.\"\n"
   ]
  },
  {
   "cell_type": "code",
   "execution_count": 32,
   "metadata": {},
   "outputs": [
    {
     "data": {
      "text/plain": [
       "{'A',\n",
       " 'Also,',\n",
       " 'Autonomous',\n",
       " 'Based',\n",
       " 'In',\n",
       " 'Methods',\n",
       " 'The',\n",
       " 'a',\n",
       " 'according',\n",
       " 'also',\n",
       " 'an',\n",
       " 'and',\n",
       " 'are',\n",
       " 'at',\n",
       " 'automatically',\n",
       " 'autonomous',\n",
       " 'available',\n",
       " 'battery',\n",
       " 'battery,',\n",
       " 'battery-damage',\n",
       " 'be',\n",
       " 'by',\n",
       " 'charge',\n",
       " 'charge.',\n",
       " 'charging',\n",
       " 'complete.',\n",
       " 'computer',\n",
       " 'configured',\n",
       " 'controlled',\n",
       " 'cost',\n",
       " 'costs',\n",
       " 'described',\n",
       " 'determine',\n",
       " 'determined.',\n",
       " 'disclosed.',\n",
       " 'discover',\n",
       " 'discovered',\n",
       " 'each',\n",
       " 'electric',\n",
       " 'embodiments,',\n",
       " 'estimated',\n",
       " 'for',\n",
       " 'from',\n",
       " 'further',\n",
       " 'generate',\n",
       " 'herein.',\n",
       " 'in',\n",
       " 'includes',\n",
       " 'including',\n",
       " 'is',\n",
       " 'it',\n",
       " 'its',\n",
       " 'least',\n",
       " 'level',\n",
       " 'location',\n",
       " 'locations',\n",
       " 'may',\n",
       " 'methods',\n",
       " 'monitored',\n",
       " 'not',\n",
       " 'of',\n",
       " 'on-board',\n",
       " 'operation,',\n",
       " 'or',\n",
       " 'order',\n",
       " 'plurality',\n",
       " 'point',\n",
       " 'predefined',\n",
       " 'predicted',\n",
       " 'present',\n",
       " 'processor',\n",
       " 'profile',\n",
       " 'profile,',\n",
       " 'proximity',\n",
       " 'reaches',\n",
       " 'receive',\n",
       " 'recharge',\n",
       " 'recharged',\n",
       " 'recharging',\n",
       " 'refueling',\n",
       " 'required',\n",
       " 'resulting',\n",
       " 'return',\n",
       " 'route',\n",
       " 'routing',\n",
       " 'selected',\n",
       " 'selection',\n",
       " 'some',\n",
       " 'starting',\n",
       " 'station',\n",
       " 'station,',\n",
       " 'station.',\n",
       " 'stations',\n",
       " 'stations,',\n",
       " 'stop',\n",
       " 'system',\n",
       " 'systems',\n",
       " 'the',\n",
       " 'threshold,',\n",
       " 'time',\n",
       " 'to',\n",
       " 'total',\n",
       " 'travel',\n",
       " 'until',\n",
       " 'upon',\n",
       " 'use',\n",
       " 'use.',\n",
       " 'vehicle',\n",
       " 'vehicle-charging',\n",
       " 'vehicle.',\n",
       " 'vehicles',\n",
       " 'when',\n",
       " 'which',\n",
       " 'within'}"
      ]
     },
     "execution_count": 32,
     "metadata": {},
     "output_type": "execute_result"
    }
   ],
   "source": [
    "BOWA=A.split(' ')\n",
    "BOWB=B.split(' ')\n",
    "uniquewords=set(BOWA).union(set(BOWB))\n",
    "uniquewords"
   ]
  },
  {
   "cell_type": "code",
   "execution_count": 33,
   "metadata": {},
   "outputs": [
    {
     "data": {
      "text/plain": [
       "{'A': 0,\n",
       " 'Also,': 0,\n",
       " 'Autonomous': 0,\n",
       " 'Based': 0,\n",
       " 'In': 0,\n",
       " 'Methods': 0,\n",
       " 'The': 0,\n",
       " 'a': 0,\n",
       " 'according': 0,\n",
       " 'also': 0,\n",
       " 'an': 0,\n",
       " 'and': 0,\n",
       " 'are': 0,\n",
       " 'at': 0,\n",
       " 'automatically': 0,\n",
       " 'autonomous': 0,\n",
       " 'available': 0,\n",
       " 'battery': 0,\n",
       " 'battery,': 0,\n",
       " 'battery-damage': 0,\n",
       " 'be': 0,\n",
       " 'by': 0,\n",
       " 'charge': 0,\n",
       " 'charge.': 0,\n",
       " 'charging': 0,\n",
       " 'complete.': 0,\n",
       " 'computer': 0,\n",
       " 'configured': 0,\n",
       " 'controlled': 0,\n",
       " 'cost': 0,\n",
       " 'costs': 0,\n",
       " 'described': 0,\n",
       " 'determine': 0,\n",
       " 'determined.': 0,\n",
       " 'disclosed.': 0,\n",
       " 'discover': 0,\n",
       " 'discovered': 0,\n",
       " 'each': 0,\n",
       " 'electric': 0,\n",
       " 'embodiments,': 0,\n",
       " 'estimated': 0,\n",
       " 'for': 0,\n",
       " 'from': 0,\n",
       " 'further': 0,\n",
       " 'generate': 0,\n",
       " 'herein.': 0,\n",
       " 'in': 0,\n",
       " 'includes': 0,\n",
       " 'including': 0,\n",
       " 'is': 0,\n",
       " 'it': 0,\n",
       " 'its': 0,\n",
       " 'least': 0,\n",
       " 'level': 0,\n",
       " 'location': 0,\n",
       " 'locations': 0,\n",
       " 'may': 0,\n",
       " 'methods': 0,\n",
       " 'monitored': 0,\n",
       " 'not': 0,\n",
       " 'of': 0,\n",
       " 'on-board': 0,\n",
       " 'operation,': 0,\n",
       " 'or': 0,\n",
       " 'order': 0,\n",
       " 'plurality': 0,\n",
       " 'point': 0,\n",
       " 'predefined': 0,\n",
       " 'predicted': 0,\n",
       " 'present': 0,\n",
       " 'processor': 0,\n",
       " 'profile': 0,\n",
       " 'profile,': 0,\n",
       " 'proximity': 0,\n",
       " 'reaches': 0,\n",
       " 'receive': 0,\n",
       " 'recharge': 0,\n",
       " 'recharged': 0,\n",
       " 'recharging': 0,\n",
       " 'refueling': 0,\n",
       " 'required': 0,\n",
       " 'resulting': 0,\n",
       " 'return': 0,\n",
       " 'route': 0,\n",
       " 'routing': 0,\n",
       " 'selected': 0,\n",
       " 'selection': 0,\n",
       " 'some': 0,\n",
       " 'starting': 0,\n",
       " 'station': 0,\n",
       " 'station,': 0,\n",
       " 'station.': 0,\n",
       " 'stations': 0,\n",
       " 'stations,': 0,\n",
       " 'stop': 0,\n",
       " 'system': 0,\n",
       " 'systems': 0,\n",
       " 'the': 0,\n",
       " 'threshold,': 0,\n",
       " 'time': 0,\n",
       " 'to': 0,\n",
       " 'total': 0,\n",
       " 'travel': 0,\n",
       " 'until': 0,\n",
       " 'upon': 0,\n",
       " 'use': 0,\n",
       " 'use.': 0,\n",
       " 'vehicle': 0,\n",
       " 'vehicle-charging': 0,\n",
       " 'vehicle.': 0,\n",
       " 'vehicles': 0,\n",
       " 'when': 0,\n",
       " 'which': 0,\n",
       " 'within': 0}"
      ]
     },
     "execution_count": 33,
     "metadata": {},
     "output_type": "execute_result"
    }
   ],
   "source": [
    "noofwordsA = dict.fromkeys(uniquewords, 0)\n",
    "noofwordsA"
   ]
  },
  {
   "cell_type": "code",
   "execution_count": 55,
   "metadata": {},
   "outputs": [],
   "source": [
    "for word in BOWA:\n",
    "    noofwordsA[word] += 1"
   ]
  },
  {
   "cell_type": "code",
   "execution_count": 56,
   "metadata": {},
   "outputs": [],
   "source": [
    "noofwordsB = dict.fromkeys(uniquewords, 0)\n",
    "for word in numofwordsB:\n",
    "    noofwordsB[word]+=1"
   ]
  },
  {
   "cell_type": "code",
   "execution_count": 48,
   "metadata": {},
   "outputs": [
    {
     "data": {
      "text/plain": [
       "['i',\n",
       " 'me',\n",
       " 'my',\n",
       " 'myself',\n",
       " 'we',\n",
       " 'our',\n",
       " 'ours',\n",
       " 'ourselves',\n",
       " 'you',\n",
       " \"you're\",\n",
       " \"you've\",\n",
       " \"you'll\",\n",
       " \"you'd\",\n",
       " 'your',\n",
       " 'yours',\n",
       " 'yourself',\n",
       " 'yourselves',\n",
       " 'he',\n",
       " 'him',\n",
       " 'his',\n",
       " 'himself',\n",
       " 'she',\n",
       " \"she's\",\n",
       " 'her',\n",
       " 'hers',\n",
       " 'herself',\n",
       " 'it',\n",
       " \"it's\",\n",
       " 'its',\n",
       " 'itself',\n",
       " 'they',\n",
       " 'them',\n",
       " 'their',\n",
       " 'theirs',\n",
       " 'themselves',\n",
       " 'what',\n",
       " 'which',\n",
       " 'who',\n",
       " 'whom',\n",
       " 'this',\n",
       " 'that',\n",
       " \"that'll\",\n",
       " 'these',\n",
       " 'those',\n",
       " 'am',\n",
       " 'is',\n",
       " 'are',\n",
       " 'was',\n",
       " 'were',\n",
       " 'be',\n",
       " 'been',\n",
       " 'being',\n",
       " 'have',\n",
       " 'has',\n",
       " 'had',\n",
       " 'having',\n",
       " 'do',\n",
       " 'does',\n",
       " 'did',\n",
       " 'doing',\n",
       " 'a',\n",
       " 'an',\n",
       " 'the',\n",
       " 'and',\n",
       " 'but',\n",
       " 'if',\n",
       " 'or',\n",
       " 'because',\n",
       " 'as',\n",
       " 'until',\n",
       " 'while',\n",
       " 'of',\n",
       " 'at',\n",
       " 'by',\n",
       " 'for',\n",
       " 'with',\n",
       " 'about',\n",
       " 'against',\n",
       " 'between',\n",
       " 'into',\n",
       " 'through',\n",
       " 'during',\n",
       " 'before',\n",
       " 'after',\n",
       " 'above',\n",
       " 'below',\n",
       " 'to',\n",
       " 'from',\n",
       " 'up',\n",
       " 'down',\n",
       " 'in',\n",
       " 'out',\n",
       " 'on',\n",
       " 'off',\n",
       " 'over',\n",
       " 'under',\n",
       " 'again',\n",
       " 'further',\n",
       " 'then',\n",
       " 'once',\n",
       " 'here',\n",
       " 'there',\n",
       " 'when',\n",
       " 'where',\n",
       " 'why',\n",
       " 'how',\n",
       " 'all',\n",
       " 'any',\n",
       " 'both',\n",
       " 'each',\n",
       " 'few',\n",
       " 'more',\n",
       " 'most',\n",
       " 'other',\n",
       " 'some',\n",
       " 'such',\n",
       " 'no',\n",
       " 'nor',\n",
       " 'not',\n",
       " 'only',\n",
       " 'own',\n",
       " 'same',\n",
       " 'so',\n",
       " 'than',\n",
       " 'too',\n",
       " 'very',\n",
       " 's',\n",
       " 't',\n",
       " 'can',\n",
       " 'will',\n",
       " 'just',\n",
       " 'don',\n",
       " \"don't\",\n",
       " 'should',\n",
       " \"should've\",\n",
       " 'now',\n",
       " 'd',\n",
       " 'll',\n",
       " 'm',\n",
       " 'o',\n",
       " 're',\n",
       " 've',\n",
       " 'y',\n",
       " 'ain',\n",
       " 'aren',\n",
       " \"aren't\",\n",
       " 'couldn',\n",
       " \"couldn't\",\n",
       " 'didn',\n",
       " \"didn't\",\n",
       " 'doesn',\n",
       " \"doesn't\",\n",
       " 'hadn',\n",
       " \"hadn't\",\n",
       " 'hasn',\n",
       " \"hasn't\",\n",
       " 'haven',\n",
       " \"haven't\",\n",
       " 'isn',\n",
       " \"isn't\",\n",
       " 'ma',\n",
       " 'mightn',\n",
       " \"mightn't\",\n",
       " 'mustn',\n",
       " \"mustn't\",\n",
       " 'needn',\n",
       " \"needn't\",\n",
       " 'shan',\n",
       " \"shan't\",\n",
       " 'shouldn',\n",
       " \"shouldn't\",\n",
       " 'wasn',\n",
       " \"wasn't\",\n",
       " 'weren',\n",
       " \"weren't\",\n",
       " 'won',\n",
       " \"won't\",\n",
       " 'wouldn',\n",
       " \"wouldn't\"]"
      ]
     },
     "execution_count": 48,
     "metadata": {},
     "output_type": "execute_result"
    }
   ],
   "source": [
    "from nltk.corpus import stopwords\n",
    "stopwords.words('english')"
   ]
  },
  {
   "cell_type": "code",
   "execution_count": 50,
   "metadata": {},
   "outputs": [],
   "source": [
    "def TF(words,BOW):\n",
    "    tfdct={}\n",
    "    BOWcount=len(BOW)\n",
    "    for word, count in words.items():\n",
    "        tfdct[word]=count/float(BOWcount)\n",
    "    return tfdct"
   ]
  },
  {
   "cell_type": "code",
   "execution_count": 57,
   "metadata": {},
   "outputs": [],
   "source": [
    "tfA=TF(noofwordsA, BOWA)\n",
    "tfB=TF(noofwordsB,BOWB)"
   ]
  },
  {
   "cell_type": "code",
   "execution_count": 60,
   "metadata": {},
   "outputs": [
    {
     "data": {
      "text/plain": [
       "{'A': 0.008333333333333333,\n",
       " 'Also,': 0.008333333333333333,\n",
       " 'Autonomous': 0.008333333333333333,\n",
       " 'Based': 0.008333333333333333,\n",
       " 'In': 0.008333333333333333,\n",
       " 'Methods': 0.008333333333333333,\n",
       " 'The': 0.008333333333333333,\n",
       " 'a': 0.008333333333333333,\n",
       " 'according': 0.008333333333333333,\n",
       " 'also': 0.008333333333333333,\n",
       " 'an': 0.008333333333333333,\n",
       " 'and': 0.008333333333333333,\n",
       " 'are': 0.008333333333333333,\n",
       " 'at': 0.008333333333333333,\n",
       " 'automatically': 0.008333333333333333,\n",
       " 'autonomous': 0.008333333333333333,\n",
       " 'available': 0.008333333333333333,\n",
       " 'battery': 0.008333333333333333,\n",
       " 'battery,': 0.008333333333333333,\n",
       " 'battery-damage': 0.008333333333333333,\n",
       " 'be': 0.008333333333333333,\n",
       " 'by': 0.008333333333333333,\n",
       " 'charge': 0.008333333333333333,\n",
       " 'charge.': 0.008333333333333333,\n",
       " 'charging': 0.008333333333333333,\n",
       " 'complete.': 0.008333333333333333,\n",
       " 'computer': 0.008333333333333333,\n",
       " 'configured': 0.008333333333333333,\n",
       " 'controlled': 0.008333333333333333,\n",
       " 'cost': 0.008333333333333333,\n",
       " 'costs': 0.008333333333333333,\n",
       " 'described': 0.008333333333333333,\n",
       " 'determine': 0.008333333333333333,\n",
       " 'determined.': 0.008333333333333333,\n",
       " 'disclosed.': 0.008333333333333333,\n",
       " 'discover': 0.008333333333333333,\n",
       " 'discovered': 0.008333333333333333,\n",
       " 'each': 0.008333333333333333,\n",
       " 'electric': 0.008333333333333333,\n",
       " 'embodiments,': 0.008333333333333333,\n",
       " 'estimated': 0.008333333333333333,\n",
       " 'for': 0.008333333333333333,\n",
       " 'from': 0.008333333333333333,\n",
       " 'further': 0.008333333333333333,\n",
       " 'generate': 0.008333333333333333,\n",
       " 'herein.': 0.008333333333333333,\n",
       " 'in': 0.008333333333333333,\n",
       " 'includes': 0.008333333333333333,\n",
       " 'including': 0.008333333333333333,\n",
       " 'is': 0.008333333333333333,\n",
       " 'it': 0.008333333333333333,\n",
       " 'its': 0.008333333333333333,\n",
       " 'least': 0.008333333333333333,\n",
       " 'level': 0.008333333333333333,\n",
       " 'location': 0.008333333333333333,\n",
       " 'locations': 0.008333333333333333,\n",
       " 'may': 0.008333333333333333,\n",
       " 'methods': 0.008333333333333333,\n",
       " 'monitored': 0.008333333333333333,\n",
       " 'not': 0.008333333333333333,\n",
       " 'of': 0.008333333333333333,\n",
       " 'on-board': 0.008333333333333333,\n",
       " 'operation,': 0.008333333333333333,\n",
       " 'or': 0.008333333333333333,\n",
       " 'order': 0.008333333333333333,\n",
       " 'plurality': 0.008333333333333333,\n",
       " 'point': 0.008333333333333333,\n",
       " 'predefined': 0.008333333333333333,\n",
       " 'predicted': 0.008333333333333333,\n",
       " 'present': 0.008333333333333333,\n",
       " 'processor': 0.008333333333333333,\n",
       " 'profile': 0.008333333333333333,\n",
       " 'profile,': 0.008333333333333333,\n",
       " 'proximity': 0.008333333333333333,\n",
       " 'reaches': 0.008333333333333333,\n",
       " 'receive': 0.008333333333333333,\n",
       " 'recharge': 0.008333333333333333,\n",
       " 'recharged': 0.008333333333333333,\n",
       " 'recharging': 0.008333333333333333,\n",
       " 'refueling': 0.008333333333333333,\n",
       " 'required': 0.008333333333333333,\n",
       " 'resulting': 0.008333333333333333,\n",
       " 'return': 0.008333333333333333,\n",
       " 'route': 0.008333333333333333,\n",
       " 'routing': 0.008333333333333333,\n",
       " 'selected': 0.008333333333333333,\n",
       " 'selection': 0.008333333333333333,\n",
       " 'some': 0.008333333333333333,\n",
       " 'starting': 0.008333333333333333,\n",
       " 'station': 0.008333333333333333,\n",
       " 'station,': 0.008333333333333333,\n",
       " 'station.': 0.008333333333333333,\n",
       " 'stations': 0.008333333333333333,\n",
       " 'stations,': 0.008333333333333333,\n",
       " 'stop': 0.008333333333333333,\n",
       " 'system': 0.008333333333333333,\n",
       " 'systems': 0.008333333333333333,\n",
       " 'the': 0.008333333333333333,\n",
       " 'threshold,': 0.008333333333333333,\n",
       " 'time': 0.008333333333333333,\n",
       " 'to': 0.008333333333333333,\n",
       " 'total': 0.008333333333333333,\n",
       " 'travel': 0.008333333333333333,\n",
       " 'until': 0.008333333333333333,\n",
       " 'upon': 0.008333333333333333,\n",
       " 'use': 0.008333333333333333,\n",
       " 'use.': 0.008333333333333333,\n",
       " 'vehicle': 0.008333333333333333,\n",
       " 'vehicle-charging': 0.008333333333333333,\n",
       " 'vehicle.': 0.008333333333333333,\n",
       " 'vehicles': 0.008333333333333333,\n",
       " 'when': 0.008333333333333333,\n",
       " 'which': 0.008333333333333333,\n",
       " 'within': 0.008333333333333333}"
      ]
     },
     "execution_count": 60,
     "metadata": {},
     "output_type": "execute_result"
    }
   ],
   "source": [
    "tfA\n",
    "tfB"
   ]
  },
  {
   "cell_type": "code",
   "execution_count": 66,
   "metadata": {},
   "outputs": [],
   "source": [
    "#IDF calculation\n",
    "def IDF(documents):\n",
    "    import math\n",
    "    N=len(documents)\n",
    "    \n",
    "    idfDict = dict.fromkeys(documents[0].keys(), 0)\n",
    "    for document in documents:\n",
    "        for word, val in document.items():\n",
    "            if val > 0:\n",
    "                idfDict[word] += 1\n",
    "    \n",
    "    for word, val in idfDict.items():\n",
    "        idfDict[word] = math.log(N / float(val))\n",
    "    return idfDict"
   ]
  },
  {
   "cell_type": "code",
   "execution_count": 67,
   "metadata": {},
   "outputs": [],
   "source": [
    "idfs = IDF([noofwordsA, noofwordsB])"
   ]
  },
  {
   "cell_type": "code",
   "execution_count": 68,
   "metadata": {},
   "outputs": [
    {
     "data": {
      "text/plain": [
       "{'A': 0.0,\n",
       " 'Also,': 0.0,\n",
       " 'Autonomous': 0.6931471805599453,\n",
       " 'Based': 0.6931471805599453,\n",
       " 'In': 0.6931471805599453,\n",
       " 'Methods': 0.6931471805599453,\n",
       " 'The': 0.0,\n",
       " 'a': 0.0,\n",
       " 'according': 0.6931471805599453,\n",
       " 'also': 0.0,\n",
       " 'an': 0.0,\n",
       " 'and': 0.0,\n",
       " 'are': 0.6931471805599453,\n",
       " 'at': 0.0,\n",
       " 'automatically': 0.6931471805599453,\n",
       " 'autonomous': 0.6931471805599453,\n",
       " 'available': 0.6931471805599453,\n",
       " 'battery': 0.6931471805599453,\n",
       " 'battery,': 0.6931471805599453,\n",
       " 'battery-damage': 0.0,\n",
       " 'be': 0.6931471805599453,\n",
       " 'by': 0.6931471805599453,\n",
       " 'charge': 0.6931471805599453,\n",
       " 'charge.': 0.0,\n",
       " 'charging': 0.0,\n",
       " 'complete.': 0.0,\n",
       " 'computer': 0.6931471805599453,\n",
       " 'configured': 0.0,\n",
       " 'controlled': 0.6931471805599453,\n",
       " 'cost': 0.0,\n",
       " 'costs': 0.0,\n",
       " 'described': 0.6931471805599453,\n",
       " 'determine': 0.0,\n",
       " 'determined.': 0.6931471805599453,\n",
       " 'disclosed.': 0.6931471805599453,\n",
       " 'discover': 0.0,\n",
       " 'discovered': 0.0,\n",
       " 'each': 0.0,\n",
       " 'electric': 0.6931471805599453,\n",
       " 'embodiments,': 0.6931471805599453,\n",
       " 'estimated': 0.0,\n",
       " 'for': 0.0,\n",
       " 'from': 0.0,\n",
       " 'further': 0.0,\n",
       " 'generate': 0.6931471805599453,\n",
       " 'herein.': 0.6931471805599453,\n",
       " 'in': 0.6931471805599453,\n",
       " 'includes': 0.0,\n",
       " 'including': 0.0,\n",
       " 'is': 0.0,\n",
       " 'it': 0.6931471805599453,\n",
       " 'its': 0.6931471805599453,\n",
       " 'least': 0.0,\n",
       " 'level': 0.6931471805599453,\n",
       " 'location': 0.6931471805599453,\n",
       " 'locations': 0.0,\n",
       " 'may': 0.6931471805599453,\n",
       " 'methods': 0.6931471805599453,\n",
       " 'monitored': 0.6931471805599453,\n",
       " 'not': 0.6931471805599453,\n",
       " 'of': 0.0,\n",
       " 'on-board': 0.6931471805599453,\n",
       " 'operation,': 0.6931471805599453,\n",
       " 'or': 0.6931471805599453,\n",
       " 'order': 0.6931471805599453,\n",
       " 'plurality': 0.0,\n",
       " 'point': 0.6931471805599453,\n",
       " 'predefined': 0.0,\n",
       " 'predicted': 0.6931471805599453,\n",
       " 'present': 0.0,\n",
       " 'processor': 0.0,\n",
       " 'profile': 0.6931471805599453,\n",
       " 'profile,': 0.6931471805599453,\n",
       " 'proximity': 0.0,\n",
       " 'reaches': 0.6931471805599453,\n",
       " 'receive': 0.0,\n",
       " 'recharge': 0.6931471805599453,\n",
       " 'recharged': 0.6931471805599453,\n",
       " 'recharging': 0.6931471805599453,\n",
       " 'refueling': 0.6931471805599453,\n",
       " 'required': 0.0,\n",
       " 'resulting': 0.0,\n",
       " 'return': 0.6931471805599453,\n",
       " 'route': 0.0,\n",
       " 'routing': 0.6931471805599453,\n",
       " 'selected': 0.0,\n",
       " 'selection': 0.0,\n",
       " 'some': 0.6931471805599453,\n",
       " 'starting': 0.6931471805599453,\n",
       " 'station': 0.0,\n",
       " 'station,': 0.0,\n",
       " 'station.': 0.0,\n",
       " 'stations': 0.6931471805599453,\n",
       " 'stations,': 0.0,\n",
       " 'stop': 0.0,\n",
       " 'system': 0.0,\n",
       " 'systems': 0.6931471805599453,\n",
       " 'the': 0.0,\n",
       " 'threshold,': 0.6931471805599453,\n",
       " 'time': 0.0,\n",
       " 'to': 0.0,\n",
       " 'total': 0.0,\n",
       " 'travel': 0.6931471805599453,\n",
       " 'until': 0.6931471805599453,\n",
       " 'upon': 0.6931471805599453,\n",
       " 'use': 0.6931471805599453,\n",
       " 'use.': 0.6931471805599453,\n",
       " 'vehicle': 0.6931471805599453,\n",
       " 'vehicle-charging': 0.0,\n",
       " 'vehicle.': 0.6931471805599453,\n",
       " 'vehicles': 0.6931471805599453,\n",
       " 'when': 0.6931471805599453,\n",
       " 'which': 0.0,\n",
       " 'within': 0.0}"
      ]
     },
     "execution_count": 68,
     "metadata": {},
     "output_type": "execute_result"
    }
   ],
   "source": [
    "idfs"
   ]
  },
  {
   "cell_type": "code",
   "execution_count": 46,
   "metadata": {},
   "outputs": [],
   "source": [
    "#list(feature_names)\n",
    "#list(dense)"
   ]
  },
  {
   "cell_type": "code",
   "execution_count": 69,
   "metadata": {},
   "outputs": [],
   "source": [
    "def TFIDF(tfBagOfWords, idfs):\n",
    "    tfidf = {}\n",
    "    for word, val in tfBagOfWords.items():\n",
    "        tfidf[word] = val * idfs[word]\n",
    "    return tfidf"
   ]
  },
  {
   "cell_type": "code",
   "execution_count": 71,
   "metadata": {},
   "outputs": [
    {
     "data": {
      "text/html": [
       "<div>\n",
       "<style scoped>\n",
       "    .dataframe tbody tr th:only-of-type {\n",
       "        vertical-align: middle;\n",
       "    }\n",
       "\n",
       "    .dataframe tbody tr th {\n",
       "        vertical-align: top;\n",
       "    }\n",
       "\n",
       "    .dataframe thead th {\n",
       "        text-align: right;\n",
       "    }\n",
       "</style>\n",
       "<table border=\"1\" class=\"dataframe\">\n",
       "  <thead>\n",
       "    <tr style=\"text-align: right;\">\n",
       "      <th></th>\n",
       "      <th>station</th>\n",
       "      <th>station,</th>\n",
       "      <th>plurality</th>\n",
       "      <th>of</th>\n",
       "      <th>also</th>\n",
       "      <th>costs</th>\n",
       "      <th>computer</th>\n",
       "      <th>charge.</th>\n",
       "      <th>the</th>\n",
       "      <th>on-board</th>\n",
       "      <th>...</th>\n",
       "      <th>travel</th>\n",
       "      <th>upon</th>\n",
       "      <th>in</th>\n",
       "      <th>stop</th>\n",
       "      <th>which</th>\n",
       "      <th>location</th>\n",
       "      <th>and</th>\n",
       "      <th>point</th>\n",
       "      <th>use.</th>\n",
       "      <th>Methods</th>\n",
       "    </tr>\n",
       "  </thead>\n",
       "  <tbody>\n",
       "    <tr>\n",
       "      <th>0</th>\n",
       "      <td>0.0</td>\n",
       "      <td>0.0</td>\n",
       "      <td>0.0</td>\n",
       "      <td>0.0</td>\n",
       "      <td>0.0</td>\n",
       "      <td>0.0</td>\n",
       "      <td>0.000000</td>\n",
       "      <td>0.0</td>\n",
       "      <td>0.0</td>\n",
       "      <td>0.000000</td>\n",
       "      <td>...</td>\n",
       "      <td>0.000000</td>\n",
       "      <td>0.000000</td>\n",
       "      <td>0.000000</td>\n",
       "      <td>0.0</td>\n",
       "      <td>0.0</td>\n",
       "      <td>0.000000</td>\n",
       "      <td>0.0</td>\n",
       "      <td>0.000000</td>\n",
       "      <td>0.000000</td>\n",
       "      <td>0.000000</td>\n",
       "    </tr>\n",
       "    <tr>\n",
       "      <th>1</th>\n",
       "      <td>0.0</td>\n",
       "      <td>0.0</td>\n",
       "      <td>0.0</td>\n",
       "      <td>0.0</td>\n",
       "      <td>0.0</td>\n",
       "      <td>0.0</td>\n",
       "      <td>0.005776</td>\n",
       "      <td>0.0</td>\n",
       "      <td>0.0</td>\n",
       "      <td>0.005776</td>\n",
       "      <td>...</td>\n",
       "      <td>0.005776</td>\n",
       "      <td>0.005776</td>\n",
       "      <td>0.005776</td>\n",
       "      <td>0.0</td>\n",
       "      <td>0.0</td>\n",
       "      <td>0.005776</td>\n",
       "      <td>0.0</td>\n",
       "      <td>0.005776</td>\n",
       "      <td>0.005776</td>\n",
       "      <td>0.005776</td>\n",
       "    </tr>\n",
       "  </tbody>\n",
       "</table>\n",
       "<p>2 rows × 114 columns</p>\n",
       "</div>"
      ],
      "text/plain": [
       "   station  station,  plurality   of  also  costs  computer  charge.  the  \\\n",
       "0      0.0       0.0        0.0  0.0   0.0    0.0  0.000000      0.0  0.0   \n",
       "1      0.0       0.0        0.0  0.0   0.0    0.0  0.005776      0.0  0.0   \n",
       "\n",
       "   on-board  ...    travel      upon        in  stop  which  location  and  \\\n",
       "0  0.000000  ...  0.000000  0.000000  0.000000   0.0    0.0  0.000000  0.0   \n",
       "1  0.005776  ...  0.005776  0.005776  0.005776   0.0    0.0  0.005776  0.0   \n",
       "\n",
       "      point      use.   Methods  \n",
       "0  0.000000  0.000000  0.000000  \n",
       "1  0.005776  0.005776  0.005776  \n",
       "\n",
       "[2 rows x 114 columns]"
      ]
     },
     "execution_count": 71,
     "metadata": {},
     "output_type": "execute_result"
    }
   ],
   "source": [
    "tfidfA = TFIDF(tfA, idfs)\n",
    "tfidfB = TFIDF(tfB, idfs)\n",
    "df = pd.DataFrame([tfidfA, tfidfB])\n",
    "df"
   ]
  },
  {
   "cell_type": "code",
   "execution_count": 72,
   "metadata": {},
   "outputs": [
    {
     "data": {
      "text/html": [
       "<div>\n",
       "<style scoped>\n",
       "    .dataframe tbody tr th:only-of-type {\n",
       "        vertical-align: middle;\n",
       "    }\n",
       "\n",
       "    .dataframe tbody tr th {\n",
       "        vertical-align: top;\n",
       "    }\n",
       "\n",
       "    .dataframe thead th {\n",
       "        text-align: right;\n",
       "    }\n",
       "</style>\n",
       "<table border=\"1\" class=\"dataframe\">\n",
       "  <thead>\n",
       "    <tr style=\"text-align: right;\">\n",
       "      <th></th>\n",
       "      <th>according</th>\n",
       "      <th>also</th>\n",
       "      <th>an</th>\n",
       "      <th>and</th>\n",
       "      <th>are</th>\n",
       "      <th>at</th>\n",
       "      <th>automatically</th>\n",
       "      <th>autonomous</th>\n",
       "      <th>available</th>\n",
       "      <th>based</th>\n",
       "      <th>...</th>\n",
       "      <th>total</th>\n",
       "      <th>travel</th>\n",
       "      <th>until</th>\n",
       "      <th>upon</th>\n",
       "      <th>use</th>\n",
       "      <th>vehicle</th>\n",
       "      <th>vehicles</th>\n",
       "      <th>when</th>\n",
       "      <th>which</th>\n",
       "      <th>within</th>\n",
       "    </tr>\n",
       "  </thead>\n",
       "  <tbody>\n",
       "    <tr>\n",
       "      <th>0</th>\n",
       "      <td>0.000000</td>\n",
       "      <td>0.152565</td>\n",
       "      <td>0.054276</td>\n",
       "      <td>0.108552</td>\n",
       "      <td>0.000000</td>\n",
       "      <td>0.162827</td>\n",
       "      <td>0.000000</td>\n",
       "      <td>0.00000</td>\n",
       "      <td>0.000000</td>\n",
       "      <td>0.000000</td>\n",
       "      <td>...</td>\n",
       "      <td>0.076283</td>\n",
       "      <td>0.000000</td>\n",
       "      <td>0.000000</td>\n",
       "      <td>0.000000</td>\n",
       "      <td>0.00000</td>\n",
       "      <td>0.054276</td>\n",
       "      <td>0.000000</td>\n",
       "      <td>0.000000</td>\n",
       "      <td>0.054276</td>\n",
       "      <td>0.076283</td>\n",
       "    </tr>\n",
       "    <tr>\n",
       "      <th>1</th>\n",
       "      <td>0.064347</td>\n",
       "      <td>0.000000</td>\n",
       "      <td>0.091566</td>\n",
       "      <td>0.137349</td>\n",
       "      <td>0.064347</td>\n",
       "      <td>0.045783</td>\n",
       "      <td>0.128693</td>\n",
       "      <td>0.19304</td>\n",
       "      <td>0.064347</td>\n",
       "      <td>0.064347</td>\n",
       "      <td>...</td>\n",
       "      <td>0.000000</td>\n",
       "      <td>0.064347</td>\n",
       "      <td>0.064347</td>\n",
       "      <td>0.064347</td>\n",
       "      <td>0.19304</td>\n",
       "      <td>0.228916</td>\n",
       "      <td>0.128693</td>\n",
       "      <td>0.128693</td>\n",
       "      <td>0.045783</td>\n",
       "      <td>0.000000</td>\n",
       "    </tr>\n",
       "  </tbody>\n",
       "</table>\n",
       "<p>2 rows × 99 columns</p>\n",
       "</div>"
      ],
      "text/plain": [
       "   according      also        an       and       are        at  automatically  \\\n",
       "0   0.000000  0.152565  0.054276  0.108552  0.000000  0.162827       0.000000   \n",
       "1   0.064347  0.000000  0.091566  0.137349  0.064347  0.045783       0.128693   \n",
       "\n",
       "   autonomous  available     based  ...     total    travel     until  \\\n",
       "0     0.00000   0.000000  0.000000  ...  0.076283  0.000000  0.000000   \n",
       "1     0.19304   0.064347  0.064347  ...  0.000000  0.064347  0.064347   \n",
       "\n",
       "       upon      use   vehicle  vehicles      when     which    within  \n",
       "0  0.000000  0.00000  0.054276  0.000000  0.000000  0.054276  0.076283  \n",
       "1  0.064347  0.19304  0.228916  0.128693  0.128693  0.045783  0.000000  \n",
       "\n",
       "[2 rows x 99 columns]"
      ]
     },
     "execution_count": 72,
     "metadata": {},
     "output_type": "execute_result"
    }
   ],
   "source": [
    "#Sci kit learn TF IDF implementation\n",
    "import pandas as pd\n",
    "vectorizer = TfidfVectorizer()\n",
    "vectors = vectorizer.fit_transform([A, B])\n",
    "feature_names = vectorizer.get_feature_names()\n",
    "dense = vectors.todense()\n",
    "denselist = dense.tolist()\n",
    "df = pd.DataFrame(denselist, columns=feature_names)\n",
    "df"
   ]
  },
  {
   "cell_type": "code",
   "execution_count": null,
   "metadata": {},
   "outputs": [],
   "source": []
  },
  {
   "cell_type": "code",
   "execution_count": null,
   "metadata": {},
   "outputs": [],
   "source": []
  },
  {
   "cell_type": "code",
   "execution_count": null,
   "metadata": {},
   "outputs": [],
   "source": []
  },
  {
   "cell_type": "code",
   "execution_count": null,
   "metadata": {},
   "outputs": [],
   "source": []
  },
  {
   "cell_type": "code",
   "execution_count": null,
   "metadata": {},
   "outputs": [],
   "source": []
  },
  {
   "cell_type": "code",
   "execution_count": null,
   "metadata": {},
   "outputs": [],
   "source": []
  }
 ],
 "metadata": {
  "kernelspec": {
   "display_name": "Python 3",
   "language": "python",
   "name": "python3"
  },
  "language_info": {
   "codemirror_mode": {
    "name": "ipython",
    "version": 3
   },
   "file_extension": ".py",
   "mimetype": "text/x-python",
   "name": "python",
   "nbconvert_exporter": "python",
   "pygments_lexer": "ipython3",
   "version": "3.6.4"
  }
 },
 "nbformat": 4,
 "nbformat_minor": 2
}
